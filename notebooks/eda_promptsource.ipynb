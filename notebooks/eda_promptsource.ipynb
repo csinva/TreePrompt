{
 "cells": [
  {
   "cell_type": "code",
   "execution_count": 34,
   "metadata": {},
   "outputs": [
    {
     "name": "stdout",
     "output_type": "stream",
     "text": [
      "The autoreload extension is already loaded. To reload it, use:\n",
      "  %reload_ext autoreload\n"
     ]
    }
   ],
   "source": [
    "%load_ext autoreload\n",
    "%autoreload 2\n",
    "import os\n",
    "import matplotlib.pyplot as plt\n",
    "import seaborn as sns\n",
    "from os.path import join\n",
    "from tqdm import tqdm\n",
    "import pandas as pd\n",
    "import pickle as pkl\n",
    "import notebook_helper\n",
    "import sys\n",
    "import promptsource\n",
    "from datasets import load_dataset\n",
    "from promptsource.templates import TemplateCollection\n",
    "from promptsource.templates import DatasetTemplates"
   ]
  },
  {
   "cell_type": "code",
   "execution_count": 35,
   "metadata": {},
   "outputs": [
    {
     "name": "stderr",
     "output_type": "stream",
     "text": [
      "Found cached dataset rotten_tomatoes (/home/chansingh/.cache/huggingface/datasets/rotten_tomatoes/default/1.0.0/40d411e45a6ce3484deed7cc15b82a53dad9a72aafd9f86f8f227134bec5ca46)\n"
     ]
    },
    {
     "data": {
      "text/plain": [
       "{'text': 'lovingly photographed in the manner of a golden book sprung to life , stuart little 2 manages sweetness largely without stickiness .',\n",
       " 'label': 1}"
      ]
     },
     "execution_count": 35,
     "metadata": {},
     "output_type": "execute_result"
    }
   ],
   "source": [
    "dataset = load_dataset(f\"rotten_tomatoes\", split=\"test\")\n",
    "example = dataset[0]\n",
    "example"
   ]
  },
  {
   "cell_type": "code",
   "execution_count": 41,
   "metadata": {},
   "outputs": [
    {
     "name": "stdout",
     "output_type": "stream",
     "text": [
      "___ Did the reviewer find this movie good or bad?\n",
      "\tlabel:  good\n",
      "___ What is the sentiment expressed in this text?\n",
      "\tlabel:  positive\n",
      "___ \n",
      "Is this review positive or negative?\n",
      "\tlabel:  positive\n",
      "___ Did the reviewer enjoy the movie?\n",
      "\tlabel:  Yes\n",
      "___ How does the reviewer feel about the movie?\n",
      "\tlabel:  They loved it\n",
      "___ The sentiment expressed for the movie is\n",
      "\tlabel:  positive\n",
      "___ What sentiment does the writer express for the movie?\n",
      "\tlabel:  positive\n",
      "The following movie review expresses what sentiment? ___\n",
      "\tlabel:  positive\n",
      "___ What is the sentiment expressed by the reviewer for the movie?\n",
      "\tlabel:  positive\n",
      "___ How does the viewer feel about the movie?\n",
      "\tlabel:  positive\n"
     ]
    }
   ],
   "source": [
    "templates = DatasetTemplates(f\"rotten_tomatoes\")\n",
    "for template_key in templates.templates:\n",
    "    template = templates.templates[template_key]\n",
    "    prompt, label = template.apply(example)\n",
    "    print(prompt.replace(example['text'], '___'))\n",
    "    print('\\tlabel: ', label)"
   ]
  }
 ],
 "metadata": {
  "kernelspec": {
   "display_name": ".llm",
   "language": "python",
   "name": "python3"
  },
  "language_info": {
   "codemirror_mode": {
    "name": "ipython",
    "version": 3
   },
   "file_extension": ".py",
   "mimetype": "text/x-python",
   "name": "python",
   "nbconvert_exporter": "python",
   "pygments_lexer": "ipython3",
   "version": "3.9.5"
  },
  "orig_nbformat": 4,
  "vscode": {
   "interpreter": {
    "hash": "a9ff692d44ea03fd8a03facee7621117bbbb82def09bacaacf0a2cbc238b7b91"
   }
  }
 },
 "nbformat": 4,
 "nbformat_minor": 2
}
