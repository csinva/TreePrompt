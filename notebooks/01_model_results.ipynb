{
 "cells": [
  {
   "cell_type": "code",
   "execution_count": null,
   "metadata": {},
   "outputs": [],
   "source": [
    "%load_ext autoreload\n",
    "%autoreload 2\n",
    "import os\n",
    "import matplotlib.pyplot as plt\n",
    "import seaborn as sns\n",
    "from os.path import join\n",
    "from tqdm import tqdm\n",
    "import pandas as pd\n",
    "import imodelsx.process_results\n",
    "import pickle as pkl\n",
    "import viz\n",
    "import sys\n",
    "import notebook_helper\n",
    "sys.path.append('../experiments/')\n",
    "results_dir = '/home/chansingh/mntv1/tree-prompt/feb20'\n",
    "\n",
    "r = imodelsx.process_results.get_results_df(results_dir)\n",
    "\n",
    "# fill missing args with default values from argparse\n",
    "experiment_filename = '../experiments/01_fit.py'\n",
    "r = imodelsx.process_results.fill_missing_args_with_default(r, experiment_filename)\n",
    "r['mean_llm_calls'] = notebook_helper.add_mean_llm_calls(r)\n",
    "\n",
    "# group using these experiment hyperparams when averaging over random seeds\n",
    "group_keys = [\n",
    "    k for k in imodelsx.process_results.get_main_args_list(experiment_filename)\n",
    "    if not k == 'seed'\n",
    "]\n",
    "ravg = (\n",
    "    r\n",
    "    .groupby(by=group_keys)\n",
    "    .mean(numeric_only=True)\n",
    "    .reset_index()\n",
    ")"
   ]
  },
  {
   "cell_type": "code",
   "execution_count": null,
   "metadata": {},
   "outputs": [],
   "source": [
    "(\n",
    "    r\n",
    "    .sort_values(by=['dataset_name', 'model_name', 'num_prompts'], ascending=True)\n",
    "    .reset_index()\n",
    "    [['dataset_name', 'model_name', 'num_prompts', 'prompt_source', 'accuracy_test', 'roc_auc_test']]\n",
    "    .round(3)\n",
    ")"
   ]
  },
  {
   "cell_type": "code",
   "execution_count": null,
   "metadata": {},
   "outputs": [],
   "source": [
    "for prompt_source in r['prompt_source'].unique():\n",
    "    rcurve = ravg[ravg.checkpoint == 'gpt2-xl']\n",
    "    rcurve = rcurve[rcurve.prompt_source == prompt_source]\n",
    "\n",
    "    groupings = ['model_name', 'max_features', 'ngrams',\n",
    "                'refinement_strategy', 'use_llm_prompt_context', 'use_stemming']\n",
    "    metric = 'roc_auc'\n",
    "    # metric = 'accuracy'\n",
    "    x = 'mean_llm_calls'\n",
    "    # x = 'num_prompts'\n",
    "\n",
    "    viz.plot_perf_curves_individual(rcurve, x=x)\n",
    "    plt.suptitle(f'{prompt_source} prompts')\n",
    "    plt.show()"
   ]
  },
  {
   "cell_type": "markdown",
   "metadata": {},
   "source": [
    "### Apply cross-validation"
   ]
  },
  {
   "cell_type": "code",
   "execution_count": null,
   "metadata": {},
   "outputs": [],
   "source": [
    "# apply cross validation\n",
    "ravg_cv = (\n",
    "    ravg\n",
    "    .sort_values(by='accuracy_cv', ascending=False)\n",
    "    .groupby(by=['split_strategy', 'dataset_name'])\n",
    "    .first()\n",
    "    .reset_index()\n",
    ")\n",
    "ravg_cv"
   ]
  },
  {
   "cell_type": "code",
   "execution_count": null,
   "metadata": {},
   "outputs": [],
   "source": [
    "sns.barplot(data=ravg_cv, x='model_name', y='accuracy_test') #, hue='dataset_name')\n",
    "plt.show()"
   ]
  },
  {
   "attachments": {},
   "cell_type": "markdown",
   "metadata": {},
   "source": [
    "Load an individual model"
   ]
  },
  {
   "cell_type": "code",
   "execution_count": null,
   "metadata": {},
   "outputs": [],
   "source": [
    "run_args = r[r.model_name == 'manual_tree'].iloc[0]\n",
    "model = pkl.load(open(join(run_args.save_dir_unique, 'model.pkl'), 'rb'))\n",
    "model"
   ]
  },
  {
   "cell_type": "code",
   "execution_count": null,
   "metadata": {},
   "outputs": [],
   "source": []
  },
  {
   "cell_type": "code",
   "execution_count": null,
   "metadata": {},
   "outputs": [],
   "source": []
  }
 ],
 "metadata": {
  "kernelspec": {
   "display_name": ".llm",
   "language": "python",
   "name": "python3"
  },
  "language_info": {
   "codemirror_mode": {
    "name": "ipython",
    "version": 3
   },
   "file_extension": ".py",
   "mimetype": "text/x-python",
   "name": "python",
   "nbconvert_exporter": "python",
   "pygments_lexer": "ipython3",
   "version": "3.9.16"
  },
  "orig_nbformat": 4,
  "vscode": {
   "interpreter": {
    "hash": "a9ff692d44ea03fd8a03facee7621117bbbb82def09bacaacf0a2cbc238b7b91"
   }
  }
 },
 "nbformat": 4,
 "nbformat_minor": 2
}
