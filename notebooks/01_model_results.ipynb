{
 "cells": [
  {
   "cell_type": "code",
   "execution_count": null,
   "metadata": {},
   "outputs": [],
   "source": [
    "%load_ext autoreload\n",
    "%autoreload 2\n",
    "import os\n",
    "import matplotlib.pyplot as plt\n",
    "import seaborn as sns\n",
    "from os.path import join\n",
    "from tqdm import tqdm\n",
    "import pandas as pd\n",
    "import imodelsx.process_results\n",
    "import pickle as pkl\n",
    "from collections import defaultdict\n",
    "import viz\n",
    "import sys\n",
    "import notebook_helper\n",
    "from matplotlib.backends.backend_pdf import PdfPages\n",
    "sys.path.append('../experiments/')\n",
    "# results_dir = '/home/chansingh/mntv1/tree-prompt/feb25'\n",
    "# results_dir = '/home/chansingh/mntv1/tree-prompt/mar17'\n",
    "results_dir = '/home/chansingh/mntv1/tree-prompt/mar18'\n",
    "\n",
    "r = imodelsx.process_results.get_results_df(results_dir)\n",
    "experiment_filename = '../experiments/01_fit.py'\n",
    "r = imodelsx.process_results.fill_missing_args_with_default(r, experiment_filename)\n",
    "r['mean_llm_calls'] = notebook_helper.add_mean_llm_calls(r)\n",
    "\n",
    "r.to_pickle('../results/tprompt_results.pkl')\n",
    "# r = pd.read_pickle('../results/tprompt_results.pkl')\n",
    "ravg = r[r.seed == 1]"
   ]
  },
  {
   "cell_type": "code",
   "execution_count": null,
   "metadata": {},
   "outputs": [],
   "source": [
    "groupings = ['checkpoint', 'prompt_source', 'verbalizer_num'] #, 'binary_classification']\n",
    "for k, rcurve in ravg.groupby(groupings):\n",
    "    rcurve = rcurve.sort_values(by=['dataset_name', 'model_name', 'mean_llm_calls'])\n",
    "\n",
    "    metric = 'roc_auc_test'\n",
    "    # metric = 'accuracy'\n",
    "    x = 'mean_llm_calls'                # x = 'num_prompts'\n",
    "\n",
    "    viz.plot_perf_curves_individual(rcurve, x=x, xlim=15, metric=metric)\n",
    "    x = rcurve.iloc[0]\n",
    "    plt.suptitle(f'''checkpoint={viz.CHECKPOINTS_RENAME_DICT[x.checkpoint]} prompt_source={x.prompt_source} verb={viz.VERBS_RENAME_DICT[x.verbalizer_num]}''', fontsize='xx-small')\n",
    "    # plt.tight_layout()\n",
    "    # plt.show()\n",
    "\n",
    "    # save a couple\n",
    "    row = rcurve.iloc[0]\n",
    "    if row.checkpoint == 'EleutherAI/gpt-j-6B' and row.prompt_source == 'data_demonstrations' and row.verbalizer_num == 0:\n",
    "        plt.savefig('../results/figs/perf_curves_gptj.pdf', bbox_inches='tight')\n",
    "    if row.checkpoint == 'gpt2' and row.prompt_source == 'manual' and row.verbalizer_num == 0:\n",
    "        plt.savefig('../results/figs/perf_curves_gpt2.pdf', bbox_inches='tight')\n",
    "\n",
    "viz.save_figs_to_single_pdf(\"all_results.pdf\")"
   ]
  },
  {
   "cell_type": "markdown",
   "metadata": {},
   "source": [
    "### Apply cross-validation"
   ]
  },
  {
   "cell_type": "code",
   "execution_count": null,
   "metadata": {},
   "outputs": [],
   "source": [
    "# apply cross validation\n",
    "ravg_cv = (\n",
    "    ravg\n",
    "    .sort_values(by='accuracy_cv', ascending=False)\n",
    "    .groupby(by=['split_strategy', 'dataset_name'])\n",
    "    .first()\n",
    "    .reset_index()\n",
    ")\n",
    "ravg_cv"
   ]
  },
  {
   "attachments": {},
   "cell_type": "markdown",
   "metadata": {},
   "source": [
    "# Select individual results"
   ]
  },
  {
   "cell_type": "code",
   "execution_count": null,
   "metadata": {},
   "outputs": [],
   "source": [
    "groupings = ['checkpoint', 'prompt_source', 'verbalizer_num'] #, 'binary_classification']\n",
    "for k, rcurve in ravg.groupby(groupings):\n",
    "    rcurve = rcurve.sort_values(by=['dataset_name', 'model_name', 'mean_llm_calls'])\n",
    "    row = rcurve.iloc[0]\n",
    "    if row.checkpoint == 'EleutherAI/gpt-j-6B' and row.prompt_source == 'data_demonstrations' and row.verbalizer_num == 0:\n",
    "\n",
    "        metric = 'roc_auc_test'\n",
    "        x = 'mean_llm_calls'                # x = 'num_prompts'\n",
    "\n",
    "        viz.plot_perf_curves_individual(rcurve, x=x, xlim=15, metric=metric)\n",
    "        x = rcurve.iloc[0]\n",
    "        title = \n",
    "        plt.suptitle(f'''checkpoint={viz.CHECKPOINTS_RENAME_DICT[x.checkpoint]} prompt_source={x.prompt_source} verb={viz.VERBS_RENAME_DICT[x.verbalizer_num]}''', fontsize='xx-small')\n",
    "        # plt.tight_layout()\n",
    "        # plt.show()\n",
    "\n",
    "# viz.save_figs_to_single_pdf(\"all_results.pdf\")"
   ]
  },
  {
   "cell_type": "code",
   "execution_count": null,
   "metadata": {},
   "outputs": [],
   "source": [
    "rd = ravg\n",
    "groupings2 = ['checkpoint', 'prompt_source', 'verbalizer_num', 'dataset_name', 'model_name']\n",
    "\n",
    "dset_names = rd.dataset_name.unique().tolist()\n",
    "mets = defaultdict(list)\n",
    "for k, rcurve in rd.groupby(groupings2):    \n",
    "    # rcurve = rcurve.sort_values(by='accuracy_cv', ascending=False)\n",
    "    # metadata\n",
    "    for kk in groupings2:\n",
    "        mets[kk].append(rcurve.iloc[0][kk])\n",
    "    mets['roc_auc<=5'].append(rcurve[rcurve['mean_llm_calls'] <= 5]['roc_auc_test'].max())\n",
    "\n",
    "df = pd.DataFrame.from_dict(mets)\n",
    "df['dataset_name'] = df['dataset_name'].apply(viz.DSETS_RENAME_DICT.get)\n",
    "df['model_name'] = df['model_name'].apply(viz.MODELS_RENAME_DICT.get)\n",
    "df['checkpoint'] = df['checkpoint'].apply(viz.CHECKPOINTS_RENAME_DICT.get)\n",
    "# df['prompt_source'] = df['prompt_source'].apply(viz.PROMPT_SOURCES_RENAME_DICT.get)\n",
    "# print(df.style.hide().to_latex())\n",
    "dfp = df.pivot_table(index=['checkpoint', 'prompt_source', 'verbalizer_num'], columns=['model_name', 'dataset_name'], values='roc_auc<=5').round(2)\n",
    "print(dfp.to_latex())"
   ]
  }
 ],
 "metadata": {
  "kernelspec": {
   "display_name": ".llm",
   "language": "python",
   "name": "python3"
  },
  "language_info": {
   "codemirror_mode": {
    "name": "ipython",
    "version": 3
   },
   "file_extension": ".py",
   "mimetype": "text/x-python",
   "name": "python",
   "nbconvert_exporter": "python",
   "pygments_lexer": "ipython3",
   "version": "3.9.16"
  },
  "orig_nbformat": 4,
  "vscode": {
   "interpreter": {
    "hash": "a9ff692d44ea03fd8a03facee7621117bbbb82def09bacaacf0a2cbc238b7b91"
   }
  }
 },
 "nbformat": 4,
 "nbformat_minor": 2
}
