{
 "cells": [
  {
   "cell_type": "code",
   "execution_count": null,
   "metadata": {},
   "outputs": [],
   "source": [
    "%load_ext autoreload\n",
    "%autoreload 2\n",
    "import os\n",
    "import matplotlib.pyplot as plt\n",
    "import seaborn as sns\n",
    "from os.path import join\n",
    "from tqdm import tqdm\n",
    "import pandas as pd\n",
    "import imodelsx.process_results\n",
    "import pickle as pkl\n",
    "import viz\n",
    "import sys\n",
    "import notebook_helper\n",
    "from matplotlib.backends.backend_pdf import PdfPages\n",
    "sys.path.append('../experiments/')\n",
    "# results_dir = '/home/chansingh/mntv1/tree-prompt/feb25'\n",
    "# results_dir = '/home/chansingh/mntv1/tree-prompt/mar17'\n",
    "results_dir = '/home/chansingh/mntv1/tree-prompt/mar18'\n",
    "\n",
    "r = imodelsx.process_results.get_results_df(results_dir)\n",
    "\n",
    "# fill missing args with default values from argparse\n",
    "experiment_filename = '../experiments/01_fit.py'\n",
    "r = imodelsx.process_results.fill_missing_args_with_default(r, experiment_filename)\n",
    "r['mean_llm_calls'] = notebook_helper.add_mean_llm_calls(r)\n",
    "\n",
    "\n",
    "# filter\n",
    "# r[r['verbalizer_num'] == 0]\n",
    "\n",
    "# group using these experiment hyperparams when averaging over random seeds\n",
    "group_keys = [\n",
    "    k for k in imodelsx.process_results.get_main_args_list(experiment_filename)\n",
    "    if not k == 'seed'\n",
    "]\n",
    "ravg = (\n",
    "    r\n",
    "    .groupby(by=group_keys)\n",
    "    .mean(numeric_only=True)\n",
    "    .reset_index()\n",
    ")\n",
    "\n",
    "# display all rows\n",
    "# with pd.option_context('display.max_rows', None, 'display.max_columns', None):\n",
    "#     display(\n",
    "#         ravg\n",
    "#         .sort_values(by=['dataset_name', 'model_name', 'num_prompts'], ascending=True)\n",
    "#         .reset_index()\n",
    "#         [['dataset_name', 'model_name', 'num_prompts', 'prompt_source', 'verbalizer_num', 'roc_auc_test']]\n",
    "#         .round(3)\n",
    "#     )"
   ]
  },
  {
   "cell_type": "code",
   "execution_count": null,
   "metadata": {},
   "outputs": [],
   "source": [
    "groupings = ['checkpoint', 'prompt_source', 'verbalizer_num', 'binary_classification']\n",
    "# for checkpoint in r['checkpoint'].unique():\n",
    "#     for prompt_source in r['prompt_source'].unique():\n",
    "#         for verbalizer_num in r['verbalizer_num'].unique():\n",
    "#             for binary_classification in r['']\n",
    "\n",
    "#             rcurve = ravg[ravg.checkpoint == checkpoint]\n",
    "#             rcurve = rcurve[rcurve.prompt_source == prompt_source]\n",
    "#             rcurve = rcurve[rcurve.verbalizer_num == verbalizer_num]\n",
    "for k, rcurve in ravg.groupby(groupings):\n",
    "    # if len(rcurve) > 0:\n",
    "    rcurve = rcurve.sort_values(by=['dataset_name', 'model_name', 'mean_llm_calls'])\n",
    "\n",
    "    groupings = ['model_name', 'max_features', 'ngrams',\n",
    "                'refinement_strategy', 'use_llm_prompt_context', 'use_stemming']\n",
    "    metric = 'roc_auc'\n",
    "    # metric = 'accuracy'\n",
    "    x = 'mean_llm_calls'                # x = 'num_prompts'\n",
    "\n",
    "    viz.plot_perf_curves_individual(rcurve, x=x, xlim=15)\n",
    "    x = rcurve.iloc[0]\n",
    "    plt.suptitle(f'''checkpoint={x.checkpoint} prompt_source={x.prompt_source}\n",
    "    verb={x.verbalizer_num} binary={x.binary_classification}''', fontsize='xx-small')\n",
    "    # plt.suptitle(f'{prompt_source} prompts', fontsize='x-small')\n",
    "    # plt.show()\n",
    "    # plt.tight_layout()\n",
    "    # plt.show()\n",
    "\n",
    "viz.save_figs_to_single_pdf(\"all_results.pdf\")"
   ]
  },
  {
   "cell_type": "markdown",
   "metadata": {},
   "source": [
    "### Apply cross-validation"
   ]
  },
  {
   "cell_type": "code",
   "execution_count": null,
   "metadata": {},
   "outputs": [],
   "source": [
    "# apply cross validation\n",
    "ravg_cv = (\n",
    "    ravg\n",
    "    .sort_values(by='accuracy_cv', ascending=False)\n",
    "    .groupby(by=['split_strategy', 'dataset_name'])\n",
    "    .first()\n",
    "    .reset_index()\n",
    ")\n",
    "ravg_cv"
   ]
  },
  {
   "cell_type": "code",
   "execution_count": null,
   "metadata": {},
   "outputs": [],
   "source": [
    "sns.barplot(data=ravg_cv, x='model_name', y='accuracy_test') #, hue='dataset_name')\n",
    "plt.show()"
   ]
  },
  {
   "attachments": {},
   "cell_type": "markdown",
   "metadata": {},
   "source": [
    "Load an individual model"
   ]
  },
  {
   "cell_type": "code",
   "execution_count": null,
   "metadata": {},
   "outputs": [],
   "source": [
    "run_args = r[r.model_name == 'manual_tree'].iloc[0]\n",
    "model = pkl.load(open(join(run_args.save_dir_unique, 'model.pkl'), 'rb'))\n",
    "model"
   ]
  }
 ],
 "metadata": {
  "kernelspec": {
   "display_name": ".llm",
   "language": "python",
   "name": "python3"
  },
  "language_info": {
   "codemirror_mode": {
    "name": "ipython",
    "version": 3
   },
   "file_extension": ".py",
   "mimetype": "text/x-python",
   "name": "python",
   "nbconvert_exporter": "python",
   "pygments_lexer": "ipython3",
   "version": "3.9.16"
  },
  "orig_nbformat": 4,
  "vscode": {
   "interpreter": {
    "hash": "a9ff692d44ea03fd8a03facee7621117bbbb82def09bacaacf0a2cbc238b7b91"
   }
  }
 },
 "nbformat": 4,
 "nbformat_minor": 2
}
