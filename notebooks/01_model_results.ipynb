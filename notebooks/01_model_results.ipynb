{
 "cells": [
  {
   "cell_type": "code",
   "execution_count": null,
   "metadata": {},
   "outputs": [],
   "source": [
    "%load_ext autoreload\n",
    "%autoreload 2\n",
    "import os\n",
    "import matplotlib.pyplot as plt\n",
    "import seaborn as sns\n",
    "from os.path import join\n",
    "from tqdm import tqdm\n",
    "import pandas as pd\n",
    "import imodelsx.process_results\n",
    "import pickle as pkl\n",
    "from collections import defaultdict\n",
    "import viz\n",
    "import sys\n",
    "import notebook_helper\n",
    "from matplotlib.backends.backend_pdf import PdfPages\n",
    "sys.path.append('../experiments/')\n",
    "# results_dir = '/home/chansingh/mntv1/tree-prompt/feb25'\n",
    "# results_dir = '/home/chansingh/mntv1/tree-prompt/mar17'\n",
    "results_dir = '/home/chansingh/mntv1/tree-prompt/mar18'\n",
    "\n",
    "r = imodelsx.process_results.get_results_df(results_dir)\n",
    "\n",
    "# fill missing args with default values from argparse\n",
    "experiment_filename = '../experiments/01_fit.py'\n",
    "r = imodelsx.process_results.fill_missing_args_with_default(r, experiment_filename)\n",
    "r['mean_llm_calls'] = notebook_helper.add_mean_llm_calls(r)\n",
    "\n",
    "# group using these experiment hyperparams when averaging over random seeds\n",
    "group_keys = [\n",
    "    k for k in imodelsx.process_results.get_main_args_list(experiment_filename)\n",
    "    if not k == 'seed'\n",
    "]\n",
    "ravg = (\n",
    "    r\n",
    "    .groupby(by=group_keys)\n",
    "    .mean(numeric_only=True)\n",
    "    .reset_index()\n",
    ")"
   ]
  },
  {
   "cell_type": "code",
   "execution_count": null,
   "metadata": {},
   "outputs": [],
   "source": [
    "groupings = ['checkpoint', 'prompt_source', 'verbalizer_num'] #, 'binary_classification']\n",
    "for k, rcurve in ravg.groupby(groupings):\n",
    "    rcurve = rcurve.sort_values(by=['dataset_name', 'model_name', 'mean_llm_calls'])\n",
    "\n",
    "    metric = 'roc_auc'\n",
    "    # metric = 'accuracy'\n",
    "    x = 'mean_llm_calls'                # x = 'num_prompts'\n",
    "\n",
    "    viz.plot_perf_curves_individual(rcurve, x=x, xlim=15)\n",
    "    x = rcurve.iloc[0]\n",
    "    plt.suptitle(f'''checkpoint={viz.CHECKPOINTS_RENAME_DICT[x.checkpoint]} prompt_source={x.prompt_source} verb={x.verbalizer_num}''', fontsize='xx-small')\n",
    "    # plt.tight_layout()\n",
    "    # plt.show()\n",
    "\n",
    "viz.save_figs_to_single_pdf(\"all_results.pdf\")"
   ]
  },
  {
   "cell_type": "markdown",
   "metadata": {},
   "source": [
    "### Apply cross-validation"
   ]
  },
  {
   "cell_type": "code",
   "execution_count": null,
   "metadata": {},
   "outputs": [],
   "source": [
    "# apply cross validation\n",
    "ravg_cv = (\n",
    "    ravg\n",
    "    .sort_values(by='accuracy_cv', ascending=False)\n",
    "    .groupby(by=['split_strategy', 'dataset_name'])\n",
    "    .first()\n",
    "    .reset_index()\n",
    ")\n",
    "ravg_cv"
   ]
  },
  {
   "cell_type": "markdown",
   "metadata": {},
   "source": [
    "### Look at values"
   ]
  },
  {
   "cell_type": "code",
   "execution_count": 16,
   "metadata": {},
   "outputs": [
    {
     "data": {
      "text/html": [
       "<div>\n",
       "<style scoped>\n",
       "    .dataframe tbody tr th:only-of-type {\n",
       "        vertical-align: middle;\n",
       "    }\n",
       "\n",
       "    .dataframe tbody tr th {\n",
       "        vertical-align: top;\n",
       "    }\n",
       "\n",
       "    .dataframe thead th {\n",
       "        text-align: right;\n",
       "    }\n",
       "</style>\n",
       "<table border=\"1\" class=\"dataframe\">\n",
       "  <thead>\n",
       "    <tr style=\"text-align: right;\">\n",
       "      <th></th>\n",
       "      <th>checkpoint</th>\n",
       "      <th>prompt_source</th>\n",
       "      <th>verbalizer_num</th>\n",
       "    </tr>\n",
       "  </thead>\n",
       "  <tbody>\n",
       "    <tr>\n",
       "      <th>0</th>\n",
       "      <td>EleutherAI/gpt-j-6B</td>\n",
       "      <td>data_demonstrations</td>\n",
       "      <td>0</td>\n",
       "    </tr>\n",
       "    <tr>\n",
       "      <th>1</th>\n",
       "      <td>EleutherAI/gpt-j-6B</td>\n",
       "      <td>data_demonstrations</td>\n",
       "      <td>1</td>\n",
       "    </tr>\n",
       "    <tr>\n",
       "      <th>2</th>\n",
       "      <td>EleutherAI/gpt-j-6B</td>\n",
       "      <td>manual</td>\n",
       "      <td>0</td>\n",
       "    </tr>\n",
       "    <tr>\n",
       "      <th>3</th>\n",
       "      <td>gpt2</td>\n",
       "      <td>data_demonstrations</td>\n",
       "      <td>0</td>\n",
       "    </tr>\n",
       "    <tr>\n",
       "      <th>4</th>\n",
       "      <td>gpt2</td>\n",
       "      <td>data_demonstrations</td>\n",
       "      <td>1</td>\n",
       "    </tr>\n",
       "    <tr>\n",
       "      <th>5</th>\n",
       "      <td>gpt2</td>\n",
       "      <td>manual</td>\n",
       "      <td>0</td>\n",
       "    </tr>\n",
       "  </tbody>\n",
       "</table>\n",
       "</div>"
      ],
      "text/plain": [
       "            checkpoint        prompt_source  verbalizer_num\n",
       "0  EleutherAI/gpt-j-6B  data_demonstrations               0\n",
       "1  EleutherAI/gpt-j-6B  data_demonstrations               1\n",
       "2  EleutherAI/gpt-j-6B               manual               0\n",
       "3                 gpt2  data_demonstrations               0\n",
       "4                 gpt2  data_demonstrations               1\n",
       "5                 gpt2               manual               0"
      ]
     },
     "execution_count": 16,
     "metadata": {},
     "output_type": "execute_result"
    }
   ],
   "source": [
    "groupings = ['checkpoint', 'prompt_source', 'verbalizer_num']\n",
    "dset_names = ravg.dataset_name.unique().tolist()\n",
    "mets = defaultdict(list)\n",
    "for k, rcurve in ravg.groupby(groupings):\n",
    "    row = rcurve.iloc[0]\n",
    "    rcurve = rcurve.sort_values(by='accuracy_cv', ascending=False)\n",
    "    for kk in groupings:\n",
    "        mets[kk].append(row[kk])\n",
    "    metric = 'roc_auc'\n",
    "    x = 'mean_llm_calls'\n",
    "pd.DataFrame.from_dict(mets)"
   ]
  }
 ],
 "metadata": {
  "kernelspec": {
   "display_name": ".llm",
   "language": "python",
   "name": "python3"
  },
  "language_info": {
   "codemirror_mode": {
    "name": "ipython",
    "version": 3
   },
   "file_extension": ".py",
   "mimetype": "text/x-python",
   "name": "python",
   "nbconvert_exporter": "python",
   "pygments_lexer": "ipython3",
   "version": "3.9.16"
  },
  "orig_nbformat": 4,
  "vscode": {
   "interpreter": {
    "hash": "a9ff692d44ea03fd8a03facee7621117bbbb82def09bacaacf0a2cbc238b7b91"
   }
  }
 },
 "nbformat": 4,
 "nbformat_minor": 2
}
