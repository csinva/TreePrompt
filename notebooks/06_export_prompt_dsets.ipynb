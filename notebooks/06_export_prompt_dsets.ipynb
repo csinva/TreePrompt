{
 "cells": [
  {
   "cell_type": "code",
   "execution_count": 1,
   "metadata": {},
   "outputs": [
    {
     "name": "stderr",
     "output_type": "stream",
     "text": [
      "100%|██████████| 123/123 [00:10<00:00, 12.24it/s]\n"
     ]
    }
   ],
   "source": [
    "%load_ext autoreload\n",
    "%autoreload 2\n",
    "import os\n",
    "import matplotlib.pyplot as plt\n",
    "import seaborn as sns\n",
    "import pandas as pd\n",
    "import imodelsx.process_results\n",
    "from collections import defaultdict\n",
    "import numpy as np\n",
    "import viz\n",
    "from sklearn.tree import DecisionTreeClassifier\n",
    "from scipy import stats\n",
    "from os.path import join\n",
    "import joblib\n",
    "import sys\n",
    "sys.path.append('../experiments/')\n",
    "results_dir = '/home/chansingh/mntv1/tree-prompt/dummy_runs/'\n",
    "\n",
    "r = imodelsx.process_results.get_results_df(results_dir, results_fname='params.json')\n",
    "experiment_filename = '../experiments/01_fit.py'\n",
    "r = imodelsx.process_results.fill_missing_args_with_default(r, experiment_filename)"
   ]
  },
  {
   "cell_type": "code",
   "execution_count": 63,
   "metadata": {},
   "outputs": [
    {
     "data": {
      "text/plain": [
       "dataset_name\n",
       "rotten_tomatoes         6\n",
       "emotion                 6\n",
       "imdb                    6\n",
       "sst2                    6\n",
       "financial_phrasebank    6\n",
       "Name: count, dtype: int64"
      ]
     },
     "execution_count": 63,
     "metadata": {},
     "output_type": "execute_result"
    }
   ],
   "source": [
    "r.dataset_name.value_counts()"
   ]
  },
  {
   "cell_type": "code",
   "execution_count": 64,
   "metadata": {},
   "outputs": [],
   "source": [
    "args = r.iloc[0]\n",
    "run = joblib.load(join(args.save_dir_unique, 'cached_dset.pkl'))"
   ]
  },
  {
   "cell_type": "code",
   "execution_count": 65,
   "metadata": {},
   "outputs": [],
   "source": [
    "out_dir = join('../data_processed/', args.dataset_name)\n",
    "os.makedirs(out_dir, exist_ok=True)"
   ]
  },
  {
   "cell_type": "code",
   "execution_count": 69,
   "metadata": {},
   "outputs": [
    {
     "name": "stdout",
     "output_type": "stream",
     "text": [
      "removing 8 constant cols\n"
     ]
    },
    {
     "data": {
      "text/plain": [
       "['../data_processed/rotten_tomatoes/labels.pkl']"
      ]
     },
     "execution_count": 69,
     "metadata": {},
     "output_type": "execute_result"
    }
   ],
   "source": [
    "X_train = run['X_train']\n",
    "X_test = run['X_test']\n",
    "y_train = run['y_train']\n",
    "y_test = run['y_test']\n",
    "feature_names = run['feature_names']\n",
    "\n",
    "# run data checks\n",
    "# check that X only contains ones and zeros\n",
    "assert np.all(np.isin(X_train, [0, 1]))\n",
    "assert np.all(np.isin(X_test, [0, 1]))\n",
    "\n",
    "# remove any cols that are all the same value\n",
    "idxs_constant = np.where(np.all(X_train == X_train[0, :], axis=0))[0]\n",
    "print(f'removing {idxs_constant.size} constant cols')\n",
    "X_train = np.delete(X_train, idxs_constant, axis=1)\n",
    "X_test = np.delete(X_test, idxs_constant, axis=1)\n",
    "feature_names = np.delete(feature_names, idxs_constant)\n",
    "\n",
    "# fit simple sklearn classifier\n",
    "clf = DecisionTreeClassifier(random_state=42, max_depth=3)\n",
    "clf.fit(X_train, y_train)\n",
    "acc = clf.score(X_test, y_test)\n",
    "acc_baseline = np.unique(y_test, return_counts=True)[1][0] / y_test.size\n",
    "assert acc > acc_baseline\n",
    "\n",
    "# export data\n",
    "X_train = X_train.astype(bool)\n",
    "X_test = X_test.astype(bool)\n",
    "\n",
    "joblib.dump(\n",
    "    {\n",
    "        'X_train': X_train,\n",
    "        'X_test': X_test,\n",
    "        # 'y_train': y_train,\n",
    "        # 'y_test': y_test,\n",
    "        'feature_names': feature_names,\n",
    "        'verbalizer': args['verbalizer'],\n",
    "        'acc': acc,\n",
    "    },\n",
    "    join(out_dir, args.checkpoint + '_features.pkl')\n",
    ")\n",
    "joblib.dump({\n",
    "    'y_train': y_train,\n",
    "    'y_test': y_test,\n",
    "}, join(out_dir, 'labels.pkl'))"
   ]
  },
  {
   "cell_type": "code",
   "execution_count": null,
   "metadata": {},
   "outputs": [],
   "source": []
  }
 ],
 "metadata": {
  "kernelspec": {
   "display_name": ".llm",
   "language": "python",
   "name": "python3"
  },
  "language_info": {
   "codemirror_mode": {
    "name": "ipython",
    "version": 3
   },
   "file_extension": ".py",
   "mimetype": "text/x-python",
   "name": "python",
   "nbconvert_exporter": "python",
   "pygments_lexer": "ipython3",
   "version": "3.11.5"
  },
  "orig_nbformat": 4,
  "vscode": {
   "interpreter": {
    "hash": "a9ff692d44ea03fd8a03facee7621117bbbb82def09bacaacf0a2cbc238b7b91"
   }
  }
 },
 "nbformat": 4,
 "nbformat_minor": 2
}
